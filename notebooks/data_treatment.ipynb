{
 "cells": [
  {
   "cell_type": "code",
   "execution_count": 1,
   "metadata": {},
   "outputs": [],
   "source": [
    "import os\n",
    "import pandas as pd\n",
    "import numpy as np\n",
    "import openpyxl\n",
    "from datetime import datetime\n",
    "import seaborn as sns\n",
    "import matplotlib.pyplot as plt"
   ]
  },
  {
   "cell_type": "code",
   "execution_count": 2,
   "metadata": {},
   "outputs": [
    {
     "data": {
      "text/plain": [
       "'Guia da numeração das colunas'"
      ]
     },
     "execution_count": 2,
     "metadata": {},
     "output_type": "execute_result"
    }
   ],
   "source": [
    "'''Guia da numeração das colunas'''\n",
    "# Questionario socio economico:\n",
    "# Colunas 0 a 9\n",
    "\n",
    "# teste de compulsão alimentar: N  a AC:\n",
    "# Colunas 10 a 25\n",
    "\n",
    "# Ortorexia:\n",
    "# Colunas 26 a 40"
   ]
  },
  {
   "cell_type": "code",
   "execution_count": 3,
   "metadata": {},
   "outputs": [],
   "source": [
    "def clean_weight(value):\n",
    "    if isinstance(value, str):  # Se for string\n",
    "        value = value.replace('kg', '').replace('Kg', '').replace('KG', '').strip()  # Remove 'kg'\n",
    "        value = value.replace(',', '.')  # Troca vírgula por ponto\n",
    "        try:\n",
    "            return float(value)  # Tenta converter para float\n",
    "        except ValueError:\n",
    "            return None  # Retorna None se a conversão falhar\n",
    "    elif isinstance(value, (int, float)):  # Se já for numérico\n",
    "        return float(value)  # Retorna como float\n",
    "    else:\n",
    "        return None  # Para outros tipos (e.g., None)\n",
    "\n",
    "def clean_height(value):\n",
    "    if isinstance(value, str):  # Se for string\n",
    "        value = value.replace('cm', '').replace('m', '').replace(',', '.').strip()  # Remove 'cm' e 'm', troca vírgula por ponto\n",
    "        try:\n",
    "            return float(value)  # Tenta converter para float\n",
    "        except ValueError:\n",
    "            return None  # Retorna None se a conversão falhar\n",
    "    elif isinstance(value, (int, float)):  # Se já for numérico\n",
    "        if isinstance(value, int) and value > 100:  # Se for inteiro e maior que 100\n",
    "            return value / 100.0  # Divide por 100\n",
    "        return float(value)  # Retorna como float\n",
    "    else:\n",
    "        return None  # Para outros tipos (e.g., None)\n",
    "\n",
    "def check_compulsion(row):\n",
    "    similar_questions = ['#2','#5', '#8', '#9','#10','#11','#12','#14','#15',]\n",
    "    similar_answers = {1:0, 2:1, 3:2, 4:3}\n",
    "    other_questions = {\n",
    "        '#1': {1:0, 2:0, 3:1, 4:3},\n",
    "        '#3': {1:0, 2:1, 3:3, 4:3},\n",
    "        '#4': {1:0, 2:0, 3:0, 4:2},\n",
    "        '#6': {1:0, 2:1, 3:3, 4:None},\n",
    "        '#7': {1:0, 2:2, 3:3, 4:3},\n",
    "        '#13': {1:0, 2:0, 3:2, 4:3},\n",
    "        '#16': {1:0, 2:1, 3:2, 4:None},\n",
    "    }\n",
    "    total = 0\n",
    "    answers_profile = []\n",
    "    for column in row.columns:\n",
    "        if column in similar_questions:\n",
    "            user_answer = int(row[column].values[0])\n",
    "            value = similar_answers[user_answer]\n",
    "        else:\n",
    "            user_answer = int(row[column].values[0])\n",
    "            value = other_questions[column][user_answer]\n",
    "        answers_profile.append([column, user_answer, value])\n",
    "        total += value\n",
    "    \n",
    "    if total <= 17:\n",
    "        diagnostic = 'TCAP ausente'\n",
    "    elif total > 17 and total < 27:\n",
    "        diagnostic = 'TCAP moderado'\n",
    "    else:\n",
    "        diagnostic = 'TCAP grave'\n",
    "\n",
    "    return total, answers_profile, diagnostic\n",
    "\n",
    "def check_ortorexia(row):\n",
    "    similar_questions_01 = ['2','5','8','9']\n",
    "    similar_answers_01 = {'Sempre': 4, 'Muitas vezes': 3, 'Algumas vezes': 2, 'Nunca': 1}\n",
    "\n",
    "    similar_questions_02 = ['3','4','6','7','10','11','12','14','15',]\n",
    "    similar_answers_02 = {'Sempre': 1, 'Muitas vezes': 2, 'Algumas vezes': 3, 'Nunca': 4}\n",
    "\n",
    "    similar_questions_03 = ['1','13']\n",
    "    similar_answers_03 = {'Sempre': 2, 'Muitas vezes': 4, 'Algumas vezes': 3, 'Nunca': 1}\n",
    "\n",
    "    total = 0\n",
    "    for column in row.columns:\n",
    "        if column in similar_questions_01:\n",
    "            user_answer = row[column].values[0]\n",
    "            value = similar_answers_01[user_answer] \n",
    "        elif column in similar_questions_02:\n",
    "            user_answer = row[column].values[0]\n",
    "            value = similar_answers_02[user_answer] \n",
    "        elif column in similar_questions_03:\n",
    "            user_answer = row[column].values[0]\n",
    "            value = similar_answers_03[user_answer]\n",
    "        total += value\n",
    "    \n",
    "    if total < 40:\n",
    "        diagnostic = 'com ortorexia/comportamentos de risco'\n",
    "    else:\n",
    "        diagnostic = 'sem ortorexia/comportamentos de risco'\n",
    "\n",
    "    return total, diagnostic\n",
    "\n",
    "def check_nutrition_status(peso, altura):\n",
    "    nutrition_status_cases = {\n",
    "        'Magreza': 1,\n",
    "        'Eutrófico': 2,\n",
    "        'Sobrepeso': 3,\n",
    "        'Obesidade': 4,\n",
    "    }\n",
    "\n",
    "    imc = peso/(altura)**2\n",
    "    nutrition_status = \"\"\n",
    "    if imc < 18.5:\n",
    "       nutrition_status = 'Magreza'\n",
    "    elif imc >= 18.5 and imc < 25:\n",
    "       nutrition_status = 'Eutrófico' \n",
    "    elif imc >= 25 and imc < 30:\n",
    "        nutrition_status = 'Sobrepeso'\n",
    "    else:\n",
    "        nutrition_status = 'Obesidade'\n",
    "   \n",
    "    return nutrition_status, nutrition_status_cases[nutrition_status]"
   ]
  },
  {
   "cell_type": "code",
   "execution_count": 4,
   "metadata": {},
   "outputs": [],
   "source": [
    "file_path = \"../data/filtered_data.csv\"\n",
    "\n",
    "if os.path.exists(file_path):\n",
    "    filtered_df = pd.read_csv(\"../data/filtered_data.csv\")\n",
    "else:\n",
    "    df = pd.read_excel(\"../data/raw_data.xlsx\", engine='openpyxl')\n",
    "    # Filtra se o consentimento foi dado e remvoe a coluna de consentimento (só por garantia)\n",
    "    consentiment_column = df.columns[1]\n",
    "    filtered_df = df[df[consentiment_column] == 'Li e concordo em participar da pesquisa.'].drop(['Carimbo de data/hora', 'Cidade e Estado:', consentiment_column], axis =1)\n",
    "    \n",
    "    # Renomeando algumas colunas:\n",
    "    filtered_df.columns.values[0] = 'idade'\n",
    "    filtered_df.columns.values[1] = 'peso'\n",
    "    filtered_df.columns.values[2] = 'altura'\n",
    "    filtered_df.columns.values[3] = 'sexo'\n",
    "    filtered_df.columns.values[4] = 'gênero'\n",
    "    filtered_df.columns.values[5] = 'etnia'\n",
    "    q = 1\n",
    "    for i in range(len(filtered_df.columns)):\n",
    "        if i >= 26:\n",
    "\n",
    "            filtered_df.columns.values[i] = str(q)\n",
    "            q += 1\n",
    "\n",
    "    # Tratando coluna da idade:    \n",
    "    filtered_df['idade'] = filtered_df['idade'].apply(lambda x: ''.join(filter(str.isdigit, str(x))) if pd.notna(x) else x)\n",
    "    filtered_df['idade'] = pd.to_numeric(filtered_df['idade'], errors='coerce').astype('Int64')\n",
    "\n",
    "    # Tratando coluna peso:\n",
    "    # Aplicar a função de limpeza\n",
    "    filtered_df['peso'] = filtered_df['peso'].apply(clean_weight)\n",
    "\n",
    "    # Tratando coluna altura:\n",
    "    filtered_df['altura'] = filtered_df['altura'].apply(clean_height)\n",
    "\n",
    "    # mapeando renda para renda_ref e removendo \n",
    "    category_mapping = {\n",
    "        'Até 1 salário mínimo (Até R$ 1.612,26)': 1,\n",
    "        'De 1 a 3 salários mínimos (De R$ 1.612,27 a R$ 4.836,78)': 2,\n",
    "        'De 3 a 6 salários mínimos (De R$ 4.836,79 a R$ 9.673,56)': 3,\n",
    "        'De 6 a 9 salários mínimos (De R$ 9.673,57 a R$ 14.510,34)': 4,\n",
    "        'De 9 a 12 salários mínimos (De R$ 14.510,35 a R$ 19.347,12)': 5\n",
    "    }\n",
    "\n",
    "    filtered_df['renda_ref'] = filtered_df['Somando a sua renda com a renda das pessoas que moram com você, quanto é, aproximadamente, a renda familiar mensal? '].apply(lambda x: category_mapping.get(x, np.nan))\n",
    "    filtered_df = filtered_df.drop(['Somando a sua renda com a renda das pessoas que moram com você, quanto é, aproximadamente, a renda familiar mensal? ', 'Quantas pessoas moram com você? (incluindo filhos, irmãos, parentes e amigos)'],axis=1)\n",
    "    \n",
    "    # mapeando insituição para inst_ref\n",
    "    category_mapping = {\n",
    "        'Pública': 1,\n",
    "        'Privada': 2,\n",
    "    }\n",
    "\n",
    "    filtered_df['instituicao_ref'] = filtered_df['Qual categoria de faculdade você estuda?'].apply(lambda x: category_mapping.get(x, np.nan))\n",
    "    filtered_df = filtered_df.drop(['Qual categoria de faculdade você estuda?','Trabalha ou já trabalhou durante a graduação?' ],axis=1)\n",
    "\n",
    "\n",
    "    filtered_df.to_csv(\"../data/filtered_data.csv\", index=False)\n"
   ]
  },
  {
   "cell_type": "code",
   "execution_count": 5,
   "metadata": {},
   "outputs": [],
   "source": [
    "# Iterando o df linha a linha (usuario a usuario)\n",
    "df = filtered_df.copy(deep=True)\n",
    "size = df.shape[0]\n",
    "\n",
    "new_df = pd.DataFrame()\n",
    "for i in range(size):\n",
    "    row =  filtered_df.iloc[i].to_frame().transpose()\n",
    "\n",
    "    # Dados socio-econômicos\n",
    "    row_social = row.iloc[:, 0:6]       # 0:6 includes columns from position 0 to 5\n",
    "    \n",
    "    idade = row_social['idade'].values[0]\n",
    "    peso = row_social['peso'].values[0]\n",
    "    altura = row_social['altura'].values[0]\n",
    "    \n",
    "    # Dados de Compulsão alimentar\n",
    "    row_compulsion = row.iloc[:, 6:22]   # 6:22 includes columns from position 6 to 22\n",
    "    row_compulsion = row_compulsion.apply(lambda col: col.str.replace(r'[^1234]', '', regex=True))\n",
    "    total_compulsion, _, diagnostic = check_compulsion(row_compulsion)\n",
    "    row['indice_compulsao'] = [total_compulsion]\n",
    "    row['diagnostico_TCAP'] = [diagnostic]\n",
    "    \n",
    "    # Dados Ortorexia\n",
    "    row_ortorexia = row.iloc[:, 22:37]   # 22:37 includes columns from position 23 to 36\n",
    "    row_ortorexia.columns = row_ortorexia.columns.str.extract(r'(\\d+)')[0]\n",
    "    total_ortorexia, diagnostic = check_ortorexia(row_ortorexia)\n",
    "    row['indice_ortorexia'] = [total_ortorexia]\n",
    "    row['diagnostico_ortorexia'] = [diagnostic]\n",
    "\n",
    "    # Dados estado nutricional:\n",
    "    nutrition_status, nutrition_status_ref  = check_nutrition_status(peso, altura)\n",
    "    row['estado_nutricional'] = [nutrition_status]\n",
    "    row['estado_nutricional_ref'] = [nutrition_status_ref]\n",
    "    new_df = pd.concat([new_df, row])\n",
    "\n",
    "current_date = current_date = datetime.now().strftime(\"%d_%m_%y\")\n",
    "new_df.to_excel(f'../data/final_data_output_{current_date}.xlsx', index=False, engine='openpyxl')"
   ]
  },
  {
   "cell_type": "markdown",
   "metadata": {},
   "source": [
    "2 - Análise estatística dos dados"
   ]
  },
  {
   "cell_type": "code",
   "execution_count": 6,
   "metadata": {},
   "outputs": [],
   "source": [
    "# Informações da amostra:\n",
    "sample_data_df = new_df.copy(deep=True)\n",
    "\n",
    "# Convert columns to numeric\n",
    "sample_data_df['idade'] = pd.to_numeric(sample_data_df['idade'].astype(str).str.strip(), errors='coerce')\n",
    "sample_data_df['peso'] = pd.to_numeric(sample_data_df['peso'].astype(str).str.strip(), errors='coerce')\n",
    "\n",
    "# Replace commas with dots in the altura column and convert to numeric\n",
    "sample_data_df['altura'] = pd.to_numeric(sample_data_df['altura'].astype(str).str.replace(',', '.', regex=False).str.strip(), errors='coerce')\n",
    "\n",
    "filter_df = sample_data_df[['idade', 'peso', 'altura']]\n",
    "\n",
    "filter_df['idade'].plot(kind='box', figsize=(8, 6))\n",
    "plt.title('Distribuição da Idade dos entrevistados')\n",
    "plt.savefig(\"../../tcc-nutrition-course-facisa/reports/boxplots/idade.png\")\n",
    "plt.close()\n",
    "\n",
    "\n",
    "filter_df['peso'].plot(kind='box', figsize=(8, 6))\n",
    "plt.title('Distribuição da Peso dos entrevistados')\n",
    "plt.savefig(\"../../tcc-nutrition-course-facisa/reports/boxplots/peso.png\")\n",
    "plt.close()\n",
    "\n",
    "\n",
    "filter_df['altura'].plot(kind='box', figsize=(8, 6))\n",
    "plt.title('Distribuição da Altura dos entrevistados')\n",
    "plt.savefig(\"../../tcc-nutrition-course-facisa/reports/boxplots/altura.png\")\n",
    "plt.close()"
   ]
  },
  {
   "cell_type": "code",
   "execution_count": 7,
   "metadata": {},
   "outputs": [
    {
     "data": {
      "image/png": "[encoded data removed]",
      "text/plain": [
       "<Figure size 640x480 with 1 Axes>"
      ]
     },
     "metadata": {},
     "output_type": "display_data"
    }
   ],
   "source": [
    "# Calculate percentage instead of total count\n",
    "category_counts = sample_data_df['diagnostico_TCAP'].value_counts(normalize=True) * 100  # Normalize to get percentages\n",
    "category_counts.plot(kind='bar')  # Use 'bar' for vertical bar plot\n",
    "\n",
    "# Add labels and title\n",
    "plt.title('Porcentagem dos casos de TCAP')\n",
    "plt.ylabel('Porcentagem (%)')  # Update ylabel to indicate percentage\n",
    "plt.xlabel('')  # Keep xlabel empty or modify as needed\n",
    "plt.xticks(rotation=0)  # Keep x-axis labels horizontal\n",
    "\n",
    "# Show the plot\n",
    "plt.show()\n"
   ]
  },
  {
   "cell_type": "code",
   "execution_count": 8,
   "metadata": {},
   "outputs": [],
   "source": [
    "# Distribuição do valor absoluto de TCAP\n",
    "n = len(sample_data_df['indice_compulsao'])\n",
    "bins = int(1 + np.log2(n))\n",
    "# Plotando o histograma\n",
    "ax = sample_data_df.indice_compulsao.plot(kind='hist', bins=bins, alpha=0.7, color='black')\n",
    "plt.title(\"Distribuição do Índice de Compulsão Alimentar\")\n",
    "plt.ylabel('Frequência')\n",
    "plt.xlabel('Índice de Compulsão')\n",
    "\n",
    "# Obtendo os limites dos bins\n",
    "bin_edges = np.histogram_bin_edges(sample_data_df['indice_compulsao'], bins=bins)\n",
    "plt.savefig('../../tcc-nutrition-course-facisa/reports/histogramas/tcap.png')\n",
    "plt.close()\n",
    "\n",
    "# Distirbuição do valor absoluto de Ortorexia\n",
    "n = len(sample_data_df['indice_ortorexia'])\n",
    "bins = int(1 + np.log2(n))\n",
    "# Plotando o histograma\n",
    "ax = sample_data_df.indice_ortorexia.plot(kind='hist', bins=bins, alpha=0.7, color='black')\n",
    "plt.title(\"Distribuição do Índice de Ortorexia\")\n",
    "plt.ylabel('Frequência')\n",
    "plt.xlabel('Índice de Ortorexia')\n",
    "# Obtendo os limites dos bins\n",
    "bin_edges = np.histogram_bin_edges(sample_data_df['indice_ortorexia'], bins=bins)\n",
    "plt.savefig('../../tcc-nutrition-course-facisa/reports/histogramas/orto.png')\n",
    "plt.close()\n",
    "\n",
    "# sample_data_df.boxplot(column='indice_ortorexia', color='black')\n",
    "\n",
    "# # Adicionando título e rótulos\n",
    "# plt.title(\"Box Plot do Índice de Ortorexia\")\n",
    "# plt.ylabel('Índice de Ortorexia')\n",
    "# plt.grid(axis='y', alpha=0.75)\n",
    "# plt.savefig('../../tcc-nutrition-course-facisa/reports/boxplots/ortorexia.png')\n",
    "# plt.close()\n"
   ]
  },
  {
   "cell_type": "code",
   "execution_count": 9,
   "metadata": {},
   "outputs": [
    {
     "data": {
      "image/png": "[encoded data removed]",
      "text/plain": [
       "<Figure size 640x480 with 1 Axes>"
      ]
     },
     "metadata": {},
     "output_type": "display_data"
    }
   ],
   "source": [
    "category_counts = sample_data_df['diagnostico_ortorexia'].value_counts(normalize=True) * 100  # Normalize to get percentages\n",
    "category_counts.plot(kind='barh')  # Use 'barh' for a horizontal bar plot\n",
    "\n",
    "# Add labels and title\n",
    "plt.title('Porcentagem dos casos de Ortorexia')\n",
    "plt.xlabel('Porcentagem (%)')  # Label for the percentage\n",
    "plt.ylabel('')  # Hide ylabel if not needed\n",
    "\n",
    "# Show the plot\n",
    "plt.show()"
   ]
  },
  {
   "cell_type": "code",
   "execution_count": 10,
   "metadata": {},
   "outputs": [
    {
     "name": "stdout",
     "output_type": "stream",
     "text": [
      "Correlação entre estado nutricional e compulsão: positiva fraca (0.3483).\n"
     ]
    },
    {
     "data": {
      "text/plain": [
       "Text(0.5, 0, 'índice de ortorexia')"
      ]
     },
     "execution_count": 10,
     "metadata": {},
     "output_type": "execute_result"
    },
    {
     "data": {
      "image/png": "[encoded data removed]",
      "text/plain": [
       "<Figure size 1000x600 with 1 Axes>"
      ]
     },
     "metadata": {},
     "output_type": "display_data"
    }
   ],
   "source": [
    "# Correlação TCAP x Estado nutricional\n",
    "correlation_compulsao = np.round(new_df['estado_nutricional_ref'].corr(new_df['indice_compulsao'], method='spearman'),4)\n",
    "corr = 0\n",
    "if correlation_compulsao > 0.5:\n",
    "    corr = 'positiva forte'\n",
    "elif correlation_compulsao > 0 and correlation_compulsao <= 0.5:\n",
    "    corr  =  'positiva fraca'\n",
    "elif correlation_compulsao == 0:\n",
    "    corr = 'não existe'\n",
    "elif correlation_compulsao < 0 and correlation_compulsao >= -0.5:\n",
    "    corr = 'negativa fraca'\n",
    "else:\n",
    "    corr = 'negativa fraca' \n",
    "print(f\"Correlação entre estado nutricional e compulsão: {corr} ({correlation_compulsao}).\")\n",
    "\n",
    "\n",
    "# Criando um boxplot\n",
    "plt.figure(figsize=(10, 6))\n",
    "ax = sns.boxplot(x='estado_nutricional_ref', y='indice_ortorexia', data=new_df)\n",
    "\n",
    "# Definindo o mapeamento para os rótulos do eixo x\n",
    "category_labels = {1: 'magreza', 2: 'eutrófico', 3: 'sobrepeso', 4: 'obesidade'}\n",
    "\n",
    "# Substituindo os rótulos do eixo x pelos nomes das categorias\n",
    "ax.set_xticklabels([category_labels[i] for i in range(1, 5)])\n",
    "plt.title('Distribuição do Índice de Ortorexia por Estado Nutricional')\n",
    "plt.xlabel(\"estado nutricional\")\n",
    "plt.xlabel(\"índice de ortorexia\")"
   ]
  },
  {
   "cell_type": "code",
   "execution_count": 11,
   "metadata": {},
   "outputs": [
    {
     "name": "stdout",
     "output_type": "stream",
     "text": [
      "Correlação entre renda e compulsão: negativa fraca (-0.0717).\n"
     ]
    }
   ],
   "source": [
    "# Correlação TCAP x Renda\n",
    "new_df['renda_ref'] = pd.to_numeric(new_df['renda_ref'], errors='coerce')\n",
    "correlation_compulsao = np.round(new_df['renda_ref'].corr(new_df['indice_compulsao'],method='spearman'),4)\n",
    "\n",
    "corr = 0\n",
    "\n",
    "if correlation_compulsao > 0.5:\n",
    "    corr = 'positiva forte'\n",
    "elif correlation_compulsao > 0 and correlation_compulsao <= 0.5:\n",
    "    corr  =  'positiva fraca'\n",
    "elif correlation_compulsao == 0:\n",
    "    corr = 'não existe'\n",
    "elif correlation_compulsao < 0 and correlation_compulsao >= -0.5:\n",
    "    corr = 'negativa fraca'\n",
    "else:\n",
    "    corr = 'negativa fraca' \n",
    "print(f\"Correlação entre renda e compulsão: {corr} ({correlation_compulsao}).\")\n",
    "\n",
    "# # Create a scatter plot with a regression line\n",
    "# plt.figure(figsize=(8, 6))\n",
    "# sns.regplot(x='renda_ref', y='indice_compulsao', data=new_df)\n",
    "\n",
    "# # Show the plot\n",
    "# plt.title('Correlação Renda X Índice de Compulsão Alimentar')\n",
    "# plt.xlabel('renda')\n",
    "# plt.ylabel('índice de compulsão')\n",
    "# plt.savefig(\"../../tcc-nutrition-course-facisa/reports/correlations/renda_tcap.png\")\n",
    "# plt.close()"
   ]
  },
  {
   "cell_type": "code",
   "execution_count": 12,
   "metadata": {},
   "outputs": [
    {
     "name": "stdout",
     "output_type": "stream",
     "text": [
      "Correlação entre idade e compulsão: negativa fraca (-0.1746).\n"
     ]
    }
   ],
   "source": [
    "# Correlação TCAP x idade\n",
    "new_df['idade'] = pd.to_numeric(new_df['idade'], errors='coerce')\n",
    "correlation_compulsao = np.round(new_df['idade'].corr(new_df['indice_compulsao'],method='spearman'),4)\n",
    "\n",
    "corr = 0\n",
    "\n",
    "if correlation_compulsao > 0.5:\n",
    "    corr = 'positiva forte'\n",
    "elif correlation_compulsao > 0 and correlation_compulsao <= 0.5:\n",
    "    corr  =  'positiva fraca'\n",
    "elif correlation_compulsao == 0:\n",
    "    corr = 'não existe'\n",
    "elif correlation_compulsao < 0 and correlation_compulsao >= -0.5:\n",
    "    corr = 'negativa fraca'\n",
    "else:\n",
    "    corr = 'negativa fraca' \n",
    "print(f\"Correlação entre idade e compulsão: {corr} ({correlation_compulsao}).\")\n",
    "\n",
    "# Create a scatter plot with a regression line\n",
    "plt.figure(figsize=(8, 6))\n",
    "sns.regplot(x='idade', y='indice_compulsao', data=new_df)\n",
    "\n",
    "# Show the plot\n",
    "plt.title('Correlação Idade X Índice de Compulsão Alimentar')\n",
    "plt.xlabel('idade')\n",
    "plt.ylabel('índice de compulsão')\n",
    "plt.savefig(\"../../tcc-nutrition-course-facisa/reports/correlations/idade_tcap.png\")\n",
    "plt.close()"
   ]
  },
  {
   "cell_type": "code",
   "execution_count": 13,
   "metadata": {},
   "outputs": [
    {
     "name": "stdout",
     "output_type": "stream",
     "text": [
      "Correlação entre instituição e compulsão: positiva fraca (0.2204).\n"
     ]
    }
   ],
   "source": [
    "# Correlação TCAP x Instituição (Pearson)\n",
    "new_df['instituicao_ref'] = pd.to_numeric(new_df['instituicao_ref'], errors='coerce')\n",
    "correlation_compulsao = np.round(new_df['instituicao_ref'].corr(new_df['indice_compulsao']),4)\n",
    "corr = 0\n",
    "if correlation_compulsao > 0.5:\n",
    "    corr = 'positiva forte'\n",
    "elif correlation_compulsao > 0 and correlation_compulsao <= 0.5:\n",
    "    corr  =  'positiva fraca'\n",
    "elif correlation_compulsao == 0:\n",
    "    corr = 'não existe'\n",
    "elif correlation_compulsao < 0 and correlation_compulsao >= -0.5:\n",
    "    corr = 'negativa fraca'\n",
    "else:\n",
    "    corr = 'negativa fraca' \n",
    "print(f\"Correlação entre instituição e compulsão: {corr} ({correlation_compulsao}).\")\n",
    "\n",
    "# # Create a scatter plot with a regression line\n",
    "# plt.figure(figsize=(8, 6))\n",
    "# sns.regplot(x='instituicao_ref', y='indice_compulsao', data=new_df)\n",
    "\n",
    "# # Show the plot\n",
    "# plt.title('Correlação Instituição X Índice de Compulsão Alimentar')\n",
    "# plt.xlabel('instituicao_ref')\n",
    "# plt.ylabel('índice de compulsão')\n",
    "# plt.savefig(\"../../tcc-nutrition-course-facisa/reports/correlations/instituicao_tcap.png\")\n",
    "# plt.close()"
   ]
  },
  {
   "cell_type": "code",
   "execution_count": 14,
   "metadata": {},
   "outputs": [
    {
     "name": "stdout",
     "output_type": "stream",
     "text": [
      "Correlação entre estado nutricional e ortorexia: positiva fraca (0.127).\n"
     ]
    }
   ],
   "source": [
    "# Correlação Orto x EN\n",
    "correlation_ortorexia = np.round(new_df['estado_nutricional_ref'].corr(new_df['indice_ortorexia'],method='spearman'),4)\n",
    "\n",
    "corr = 0\n",
    "if correlation_ortorexia > 0.5:\n",
    "    corr = 'positiva forte'\n",
    "elif correlation_ortorexia > 0 and correlation_ortorexia <= 0.5:\n",
    "    corr  =  'positiva fraca'\n",
    "elif correlation_ortorexia == 0:\n",
    "    corr = 'não existe'\n",
    "elif correlation_ortorexia < 0 and correlation_ortorexia >= -0.5:\n",
    "    corr = 'negativa fraca'\n",
    "else:\n",
    "    corr = 'negativa fraca' \n",
    "print(f\"Correlação entre estado nutricional e ortorexia: {corr} ({correlation_ortorexia}).\")\n",
    "\n",
    "# Create a scatter plot with a regression line\n",
    "plt.figure(figsize=(8, 6))\n",
    "sns.regplot(x='estado_nutricional_ref', y='indice_ortorexia', data=new_df)\n",
    "\n",
    "# Show the plot\n",
    "plt.title('Correlação Estado Nutricional X Índice de Ortorexia')\n",
    "plt.xlabel('estado nutricional')\n",
    "plt.ylabel('índice de ortorexia')\n",
    "plt.savefig(\"../../tcc-nutrition-course-facisa/reports/correlations/en_orto.png\")\n",
    "plt.close()"
   ]
  },
  {
   "cell_type": "code",
   "execution_count": 15,
   "metadata": {},
   "outputs": [
    {
     "name": "stdout",
     "output_type": "stream",
     "text": [
      "Correlação entre Renda e Ortorexia: positiva fraca (0.0992).\n"
     ]
    }
   ],
   "source": [
    "# Correlação Orto x Renda\n",
    "correlation_ortorexia = np.round(new_df['renda_ref'].corr(new_df['indice_ortorexia'],method='spearman'),4)\n",
    "\n",
    "corr = 0\n",
    "if correlation_ortorexia > 0.5:\n",
    "    corr = 'positiva forte'\n",
    "elif correlation_ortorexia > 0 and correlation_ortorexia <= 0.5:\n",
    "    corr  =  'positiva fraca'\n",
    "elif correlation_ortorexia == 0:\n",
    "    corr = 'não existe'\n",
    "elif correlation_ortorexia < 0 and correlation_ortorexia >= -0.5:\n",
    "    corr = 'negativa fraca'\n",
    "else:\n",
    "    corr = 'negativa fraca' \n",
    "print(f\"Correlação entre Renda e Ortorexia: {corr} ({correlation_ortorexia}).\")\n",
    "\n",
    "# # Create a scatter plot with a regression line\n",
    "# plt.figure(figsize=(8, 6))\n",
    "# sns.regplot(x='renda_ref', y='indice_ortorexia', data=new_df)\n",
    "\n",
    "# # Show the plot\n",
    "# plt.title('Correlação Renda X Índice de Ortorexia')\n",
    "# plt.xlabel('renda')\n",
    "# plt.ylabel('índice de ortorexia')\n",
    "# plt.savefig(\"../../tcc-nutrition-course-facisa/reports/correlations/renda_orto.png\")\n",
    "# plt.close()"
   ]
  },
  {
   "cell_type": "code",
   "execution_count": 16,
   "metadata": {},
   "outputs": [
    {
     "name": "stdout",
     "output_type": "stream",
     "text": [
      "Correlação entre Idade e Ortorexia: negativa fraca (-0.1969).\n"
     ]
    }
   ],
   "source": [
    "# Correlação Orto x Idade\n",
    "correlation_ortorexia = np.round(new_df['idade'].corr(new_df['indice_ortorexia'],method='spearman'),4)\n",
    "\n",
    "corr = 0\n",
    "if correlation_ortorexia > 0.5:\n",
    "    corr = 'positiva forte'\n",
    "elif correlation_ortorexia > 0 and correlation_ortorexia <= 0.5:\n",
    "    corr  =  'positiva fraca'\n",
    "elif correlation_ortorexia == 0:\n",
    "    corr = 'não existe'\n",
    "elif correlation_ortorexia < 0 and correlation_ortorexia >= -0.5:\n",
    "    corr = 'negativa fraca'\n",
    "else:\n",
    "    corr = 'negativa fraca' \n",
    "print(f\"Correlação entre Idade e Ortorexia: {corr} ({correlation_ortorexia}).\")\n",
    "\n",
    "# Create a scatter plot with a regression line\n",
    "plt.figure(figsize=(8, 6))\n",
    "sns.regplot(x='idade', y='indice_ortorexia', data=new_df)\n",
    "\n",
    "# Show the plot\n",
    "plt.title('Correlação Idade X Índice de Ortorexia')\n",
    "plt.xlabel('idade')\n",
    "plt.ylabel('índice de ortorexia')\n",
    "plt.savefig(\"../../tcc-nutrition-course-facisa/reports/correlations/idade_orto.png\")\n",
    "plt.close()"
   ]
  },
  {
   "cell_type": "code",
   "execution_count": 17,
   "metadata": {},
   "outputs": [
    {
     "name": "stdout",
     "output_type": "stream",
     "text": [
      "Correlação entre Instituição e Ortorexia: positiva fraca (0.1065).\n"
     ]
    }
   ],
   "source": [
    "# Correlação Orto x Instituição\n",
    "correlation_ortorexia = np.round(new_df['instituicao_ref'].corr(new_df['indice_ortorexia']), 4)\n",
    "\n",
    "corr = 0\n",
    "if correlation_ortorexia > 0.5:\n",
    "    corr = 'positiva forte'\n",
    "elif correlation_ortorexia > 0 and correlation_ortorexia <= 0.5:\n",
    "    corr  =  'positiva fraca'\n",
    "elif correlation_ortorexia == 0:\n",
    "    corr = 'não existe'\n",
    "elif correlation_ortorexia < 0 and correlation_ortorexia >= -0.5:\n",
    "    corr = 'negativa fraca'\n",
    "else:\n",
    "    corr = 'negativa fraca' \n",
    "print(f\"Correlação entre Instituição e Ortorexia: {corr} ({correlation_ortorexia}).\")\n",
    "\n",
    "# # Create a scatter plot with a regression line\n",
    "# plt.figure(figsize=(8, 6))\n",
    "# sns.regplot(x='instituicao_ref', y='indice_ortorexia', data=new_df)\n",
    "\n",
    "# # Show the plot\n",
    "# plt.title('Correlação Instituição X Índice de Ortorexia')\n",
    "# plt.xlabel('instituição')\n",
    "# plt.ylabel('índice de ortorexia')\n",
    "# plt.savefig(\"../../tcc-nutrition-course-facisa/reports/correlations/idade_orto.png\")\n",
    "# plt.close()"
   ]
  },
  {
   "cell_type": "code",
   "execution_count": null,
   "metadata": {},
   "outputs": [],
   "source": []
  }
 ],
 "metadata": {
  "kernelspec": {
   "display_name": "venv",
   "language": "python",
   "name": "python3"
  },
  "language_info": {
   "codemirror_mode": {
    "name": "ipython",
    "version": 3
   },
   "file_extension": ".py",
   "mimetype": "text/x-python",
   "name": "python",
   "nbconvert_exporter": "python",
   "pygments_lexer": "ipython3",
   "version": "3.8.10"
  }
 },
 "nbformat": 4,
 "nbformat_minor": 2
}
